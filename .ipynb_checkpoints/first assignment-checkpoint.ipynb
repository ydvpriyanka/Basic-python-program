{
 "cells": [
  {
   "cell_type": "markdown",
   "id": "6bc32968",
   "metadata": {},
   "source": [
    "# 1.write a program to find prime number within a range using function"
   ]
  },
  {
   "cell_type": "code",
   "execution_count": 1,
   "id": "25eecaaa",
   "metadata": {},
   "outputs": [
    {
     "name": "stdout",
     "output_type": "stream",
     "text": [
      "Enter the start of the range: 2\n",
      "Enter the end of the range: 29\n",
      "[2, 3, 5, 7, 11, 13, 17, 19, 23, 29]\n"
     ]
    }
   ],
   "source": [
    "def find_prime_numbers(start, end):\n",
    "    prime_numbers = []\n",
    "    for num in range(start, end + 1):\n",
    "        if num > 1:\n",
    "            for i in range(2, num):\n",
    "                if (num % i) == 0:\n",
    "                    break\n",
    "            else:\n",
    "                prime_numbers.append(num)\n",
    "    return prime_numbers\n",
    "\n",
    "start_range = int(input(\"Enter the start of the range: \"))\n",
    "end_range = int(input(\"Enter the end of the range: \"))\n",
    "result = find_prime_numbers(start_range, end_range)\n",
    "print(result)\n"
   ]
  },
  {
   "cell_type": "markdown",
   "id": "7a3b1c8b",
   "metadata": {},
   "source": [
    "# 2.write a program to check palindrome"
   ]
  },
  {
   "cell_type": "markdown",
   "id": "2546fb32",
   "metadata": {},
   "source": [
    "### check palindrome number"
   ]
  },
  {
   "cell_type": "code",
   "execution_count": 2,
   "id": "fbb7cd4e",
   "metadata": {},
   "outputs": [
    {
     "name": "stdout",
     "output_type": "stream",
     "text": [
      "enter any number:12321\n",
      "number is palindrome\n"
     ]
    }
   ],
   "source": [
    "num=int(input(\"enter any number:\"))\n",
    "original=num\n",
    "rev=0\n",
    "while(num!=0):\n",
    "    rem=num%10\n",
    "    rev=rev*10+rem\n",
    "    num=num//10\n",
    "if(original==rev):\n",
    "    print(\"number is palindrome\")\n",
    "else:\n",
    "    print(\"number is not palindrome\")"
   ]
  },
  {
   "cell_type": "markdown",
   "id": "8233b96d",
   "metadata": {},
   "source": [
    "### check palindrome string"
   ]
  },
  {
   "cell_type": "code",
   "execution_count": 3,
   "id": "30468233",
   "metadata": {},
   "outputs": [
    {
     "name": "stdout",
     "output_type": "stream",
     "text": [
      "enter a string:abcde\n",
      "string is not palindrome\n"
     ]
    }
   ],
   "source": [
    "string=input(\"enter a string:\")\n",
    "if(string==string[::-1]):\n",
    "    print(\"string is palindrome\")\n",
    "else:\n",
    "    print(\"string is not palindrome\")"
   ]
  },
  {
   "cell_type": "markdown",
   "id": "e2d7eb9f",
   "metadata": {},
   "source": [
    "# 3.write a program to generate the fibonacci sequence of a given number."
   ]
  },
  {
   "cell_type": "code",
   "execution_count": 4,
   "id": "8ab9639f",
   "metadata": {},
   "outputs": [
    {
     "name": "stdout",
     "output_type": "stream",
     "text": [
      "Enter the number of terms in the Fibonacci series: 8\n",
      "0\n",
      "1\n",
      "1\n",
      "2\n",
      "3\n",
      "5\n",
      "8\n",
      "13\n"
     ]
    }
   ],
   "source": [
    "n= int(input(\"Enter the number of terms in the Fibonacci series: \")) \n",
    "n1,n2=0,1\n",
    "print(n1)\n",
    "print(n2)\n",
    "for i in range( 1, n-1):\n",
    "       n3=n1+n2\n",
    "       n1=n2\n",
    "       n2=n3 \n",
    "       print(n3)"
   ]
  },
  {
   "cell_type": "markdown",
   "id": "35378f52",
   "metadata": {},
   "source": [
    "# 4.Number guessing game"
   ]
  },
  {
   "cell_type": "code",
   "execution_count": 5,
   "id": "adc2e22a",
   "metadata": {},
   "outputs": [
    {
     "name": "stdout",
     "output_type": "stream",
     "text": [
      "welcome to mysterydigit game!\n",
      "guess any number between 1 and 100\n",
      "enter your guess: 45\n",
      "Try a higher number\n",
      "enter your guess: 78\n",
      "Try a higher number\n",
      "enter your guess: 95\n",
      "Try a lower number\n",
      "enter your guess: 86\n",
      "congratullations! you guessed the correct number\n"
     ]
    }
   ],
   "source": [
    "import random\n",
    "hidden_number=random.randint(1,100)\n",
    "guess=0\n",
    "print(\"welcome to mysterydigit game!\")\n",
    "print(\"guess any number between 1 and 100\")\n",
    "while(guess!=hidden_number):\n",
    "    guess=int(input(\"enter your guess: \"))\n",
    "    if(guess<0 or guess>100):\n",
    "        print(\"invalid guess\")\n",
    "    elif(guess<hidden_number):\n",
    "        print(\"Try a higher number\")\n",
    "    elif(guess>hidden_number):\n",
    "        print(\"Try a lower number\")\n",
    "    else:\n",
    "        print(\"congratullations! you guessed the correct number\")"
   ]
  }
 ],
 "metadata": {
  "kernelspec": {
   "display_name": "Python 3 (ipykernel)",
   "language": "python",
   "name": "python3"
  },
  "language_info": {
   "codemirror_mode": {
    "name": "ipython",
    "version": 3
   },
   "file_extension": ".py",
   "mimetype": "text/x-python",
   "name": "python",
   "nbconvert_exporter": "python",
   "pygments_lexer": "ipython3",
   "version": "3.11.5"
  }
 },
 "nbformat": 4,
 "nbformat_minor": 5
}
